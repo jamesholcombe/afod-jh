{
 "cells": [
  {
   "cell_type": "code",
   "execution_count": 2,
   "source": [
    "import pandas as pd\r\n",
    "import pydeck\r\n",
    "import json"
   ],
   "outputs": [],
   "metadata": {}
  },
  {
   "cell_type": "code",
   "execution_count": 1,
   "source": [
    "\r\n",
    "mapbox_api_token = \"pk.eyJ1IjoiamFtZXNob2xjbyIsImEiOiJja3JhaWpkOXcwNjdpMnRuaWRwdDF1bGFnIn0.rgnszUE9Qu79gIzQJ_EdxQ\"\r\n",
    "\r\n",
    "\r\n"
   ],
   "outputs": [],
   "metadata": {}
  },
  {
   "cell_type": "code",
   "execution_count": 3,
   "source": [
    "with open(R\"data\\city_A\\bus_network.geojson\") as f:\r\n",
    "    bus = json.load(f)"
   ],
   "outputs": [],
   "metadata": {}
  },
  {
   "cell_type": "code",
   "execution_count": 6,
   "source": [
    "INITIAL_VIEW_STATE = pydeck.ViewState(\r\n",
    "    latitude=51.5074, longitude=-0.08, zoom=9, max_zoom=16, pitch=0, bearing=0\r\n",
    ")\r\n",
    "\r\n",
    "\r\n",
    "\r\n",
    "geojson = pydeck.Layer(\"GeoJsonLayer\", bus, get_fill_color=[35, 76, 96])\r\n",
    "r = pydeck.Deck(\r\n",
    "    map_provider=\"mapbox\",\r\n",
    "    map_style=\"mapbox://styles/mapbox/satellite-v9\",\r\n",
    "    layers=[geojson],\r\n",
    "    initial_view_state=INITIAL_VIEW_STATE,\r\n",
    "    height=300,\r\n",
    "    width=400,)\r\n"
   ],
   "outputs": [],
   "metadata": {}
  },
  {
   "cell_type": "code",
   "execution_count": 7,
   "source": [
    "r.show()"
   ],
   "outputs": [
    {
     "output_type": "display_data",
     "data": {
      "application/vnd.jupyter.widget-view+json": {
       "version_major": 2,
       "version_minor": 0,
       "model_id": "c80722cbfc7549169fb87699af1aed4b"
      },
      "text/plain": [
       "DeckGLWidget(carto_key=None, custom_libraries=[], google_maps_key=None, height=300, json_input='{\"initialViewS…"
      ]
     },
     "metadata": {}
    }
   ],
   "metadata": {}
  }
 ],
 "metadata": {
  "orig_nbformat": 4,
  "language_info": {
   "name": "python",
   "version": "3.9.7",
   "mimetype": "text/x-python",
   "codemirror_mode": {
    "name": "ipython",
    "version": 3
   },
   "pygments_lexer": "ipython3",
   "nbconvert_exporter": "python",
   "file_extension": ".py"
  },
  "kernelspec": {
   "name": "python3",
   "display_name": "Python 3.9.7 64-bit ('venv': venv)"
  },
  "interpreter": {
   "hash": "5bbf802876b30bd8d3cf10d9b6e77b70569f8332c53e6382ced27e2c00f74a35"
  }
 },
 "nbformat": 4,
 "nbformat_minor": 2
}